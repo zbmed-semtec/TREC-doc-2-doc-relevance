{
 "cells": [
  {
   "cell_type": "code",
   "execution_count": 51,
   "metadata": {},
   "outputs": [],
   "source": [
    "import pandas as pd"
   ]
  },
  {
   "cell_type": "markdown",
   "metadata": {},
   "source": [
    "This script is supposed to clean the default TREC.tsv from PMIDs without a title or abstract."
   ]
  },
  {
   "cell_type": "code",
   "execution_count": 52,
   "metadata": {},
   "outputs": [],
   "source": [
    "TREC_corpus = pd.read_csv('/Users/timfe/Downloads/TREC_documents.tsv', sep='\\t') # Is derived from medline-preprocessing and includes all PMIDs with titles and abstracts\n",
    "test_documents = pd.read_csv('../data/output/topic_reference_and_documents.tsv', sep='\\t')\n",
    "TREC = pd.read_csv('../data/input/TREC.tsv', sep='\\t')\n",
    "TREC.columns=['topic','zeros','PMID','rating']"
   ]
  },
  {
   "cell_type": "code",
   "execution_count": 53,
   "metadata": {},
   "outputs": [],
   "source": [
    "test_documents['PMID'] = test_documents['PMID to be assessed'] # just renaming for easier merge"
   ]
  },
  {
   "cell_type": "code",
   "execution_count": 54,
   "metadata": {},
   "outputs": [],
   "source": [
    "test_corpus = pd.merge(TREC_corpus, test_documents['PMID'], how='left')\n",
    "cleanedTREC = pd.merge(TREC, TREC_corpus['PMID'], on='PMID', how='inner')"
   ]
  },
  {
   "cell_type": "code",
   "execution_count": 55,
   "metadata": {},
   "outputs": [],
   "source": [
    "test_corpus.to_csv('../app/static/data/TREC_test_corpus.tsv', index=None, sep='\\t', quotechar=\"`\")\n",
    "cleanedTREC.to_csv('../data/input/TREC_cleaned.tsv', index=None, header=None, sep='\\t', quotechar=\"`\")"
   ]
  }
 ],
 "metadata": {
  "interpreter": {
   "hash": "3457992a284a47d39fd97a06d2c5f9bb09685ad50a60e51151f10dbfde67a8a4"
  },
  "kernelspec": {
   "display_name": "Python 3.9.5 ('base')",
   "language": "python",
   "name": "python3"
  },
  "language_info": {
   "codemirror_mode": {
    "name": "ipython",
    "version": 3
   },
   "file_extension": ".py",
   "mimetype": "text/x-python",
   "name": "python",
   "nbconvert_exporter": "python",
   "pygments_lexer": "ipython3",
   "version": "3.9.5"
  },
  "orig_nbformat": 4
 },
 "nbformat": 4,
 "nbformat_minor": 2
}
